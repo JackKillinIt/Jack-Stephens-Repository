{
  "nbformat": 4,
  "nbformat_minor": 0,
  "metadata": {
    "colab": {
      "name": "Jack's Week Seven Assignment",
      "provenance": [],
      "collapsed_sections": [],
      "authorship_tag": "ABX9TyPb3o0Yppbd9chKYPHE0rCY",
      "include_colab_link": true
    },
    "kernelspec": {
      "name": "python3",
      "display_name": "Python 3"
    }
  },
  "cells": [
    {
      "cell_type": "markdown",
      "metadata": {
        "id": "view-in-github",
        "colab_type": "text"
      },
      "source": [
        "<a href=\"https://colab.research.google.com/github/JackKillinIt/Jack-Stephens-Repository/blob/master/Jack's_Week_Seven_Assignment.ipynb\" target=\"_parent\"><img src=\"https://colab.research.google.com/assets/colab-badge.svg\" alt=\"Open In Colab\"/></a>"
      ]
    },
    {
      "cell_type": "code",
      "metadata": {
        "id": "Y3M6fWSdKjhX",
        "outputId": "43281311-ebde-443f-c24b-5487d7c0382c",
        "colab": {
          "base_uri": "https://localhost:8080/",
          "height": 67
        }
      },
      "source": [
        "#Program 0\n",
        "hello_world = \"Hello World\"\n",
        "hello_world_upper = hello_world.upper()\n",
        "hello_world_lower = hello_world.lower()\n",
        "print(hello_world)\n",
        "print(hello_world_upper)\n",
        "print(hello_world_lower)"
      ],
      "execution_count": null,
      "outputs": [
        {
          "output_type": "stream",
          "text": [
            "Hello World\n",
            "HELLO WORLD\n",
            "hello world\n"
          ],
          "name": "stdout"
        }
      ]
    },
    {
      "cell_type": "code",
      "metadata": {
        "id": "hEq0bp-4KjXi",
        "outputId": "4aff40e2-8663-48e6-8ebc-944575ad6203",
        "colab": {
          "base_uri": "https://localhost:8080/",
          "height": 50
        }
      },
      "source": [
        "#Program 1\n",
        "def hasVowels(str):\n",
        "  str = str.lower()\n",
        "  count = 0 \n",
        "  for letter in str:\n",
        "    if letter in 'aeiou':\n",
        "      count = count + 1\n",
        "  return count\n",
        "\n",
        "word = \"berry\"\n",
        "not_word = \"fghjk\"\n",
        "\n",
        "if hasVowels(word):\n",
        "  print(\"The string\", word, \"has at least one vowel\")\n",
        "else:\n",
        "  print(\"The string\", word, \"does not have any vowels\")\n",
        "\n",
        "if hasVowels(not_word):\n",
        "  print(\"The string\", not_word, \"has at least one vowel\")\n",
        "else:\n",
        "  print(\"The string\", not_word, \"does not have any vowels\")"
      ],
      "execution_count": null,
      "outputs": [
        {
          "output_type": "stream",
          "text": [
            "The string berry has at least one vowel\n",
            "The string fghjk does not have any vowels\n"
          ],
          "name": "stdout"
        }
      ]
    },
    {
      "cell_type": "code",
      "metadata": {
        "id": "A8HGXuIIKi4Q"
      },
      "source": [
        "#Program 2\n",
        "user_word = input(\"What word do you want to check: \")\n",
        "\n",
        "\n"
      ],
      "execution_count": null,
      "outputs": []
    },
    {
      "cell_type": "code",
      "metadata": {
        "id": "wBVFsXy5JeA1",
        "outputId": "faa1314c-8dd3-420b-aacd-797dd55a70e4",
        "colab": {
          "base_uri": "https://localhost:8080/",
          "height": 50
        }
      },
      "source": [
        "#Program 3\n",
        "def countVowels(str):\n",
        "  str = str.lower()\n",
        "  count = 0\n",
        "  for letter in str:\n",
        "    if letter in 'aeiou':\n",
        "      count = count + 1\n",
        "  return count\n",
        "\n",
        "name1 = \"matthew\"\n",
        "name2 = \"lepinski\"\n",
        "\n",
        "count1 = countVowels(name1)\n",
        "count2 = countVowels(name2)\n",
        "\n",
        "print(name1, \"has\", count1, \"vowels in it\")\n",
        "print(name2, \"has\", count2, \"vowels in it\")"
      ],
      "execution_count": null,
      "outputs": [
        {
          "output_type": "stream",
          "text": [
            "matthew has 2 vowels in it\n",
            "lepinski has 3 vowels in it\n"
          ],
          "name": "stdout"
        }
      ]
    },
    {
      "cell_type": "code",
      "metadata": {
        "id": "99kZRSD1oGuA",
        "outputId": "70b1d49e-0323-464c-defa-8faa00848ebb",
        "colab": {
          "base_uri": "https://localhost:8080/",
          "height": 101
        }
      },
      "source": [
        "#Program 4\n",
        "word_list = []\n",
        "user_word = input(\"Please enter a word or enter 'stop' to stop: \")\n",
        "while not user_word == \"stop\":\n",
        "  word_list.append(user_word)\n",
        "  user_word = input(\"Please enter a food or enter 'stop' to stop: \")\n",
        "print(\"Your list of words was\", word_list)\n"
      ],
      "execution_count": null,
      "outputs": [
        {
          "output_type": "stream",
          "text": [
            "Please enter a food or enter 'stop' to stop: word\n",
            "Please enter a food or enter 'stop' to stop: word\n",
            "Please enter a food or enter 'stop' to stop: word\n",
            "Please enter a food or enter 'stop' to stop: stop\n",
            "Your list of words was ['word', 'word', 'word']\n"
          ],
          "name": "stdout"
        }
      ]
    },
    {
      "cell_type": "code",
      "metadata": {
        "id": "ZLrNEQWwqrZL",
        "outputId": "862b00b7-23be-48ad-aa3a-b5799c28fc86",
        "colab": {
          "base_uri": "https://localhost:8080/",
          "height": 50
        }
      },
      "source": [
        "#Program 5\n",
        "word_list = []\n",
        "user_word = input(\"Please enter a word or enter 'stop' to stop: \")  \n",
        "def final_function(str):  \n",
        "  for letter in str:\n",
        "    if letter in 'aeiou':\n",
        "      while not user_word == \"stop\":\n",
        "        word_list.append(user_word)\n",
        "        user_word = input(\"Please enter a food or enter 'stop' to stop: \")\n",
        "        \n",
        "if final_function(word_list):\n",
        "  print(\"The list\", word_list, \"has at least one vowel\")\n",
        "else:\n",
        "  print(\"The list\", word_list, \"does not have any vowels\")\n"
      ],
      "execution_count": null,
      "outputs": [
        {
          "output_type": "stream",
          "text": [
            "Please enter a word or enter 'stop' to stop: aeiou\n",
            "The list [] does not have any vowels\n"
          ],
          "name": "stdout"
        }
      ]
    }
  ]
}