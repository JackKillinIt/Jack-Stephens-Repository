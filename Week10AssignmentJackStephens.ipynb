{
  "nbformat": 4,
  "nbformat_minor": 0,
  "metadata": {
    "colab": {
      "name": "Week10AssignmentJackStephens.ipynb",
      "provenance": [],
      "collapsed_sections": [],
      "authorship_tag": "ABX9TyP2qr0OrAGdv+5QtOG8pWuD",
      "include_colab_link": true
    },
    "kernelspec": {
      "name": "python3",
      "display_name": "Python 3"
    }
  },
  "cells": [
    {
      "cell_type": "markdown",
      "metadata": {
        "id": "view-in-github",
        "colab_type": "text"
      },
      "source": [
        "<a href=\"https://colab.research.google.com/github/JackKillinIt/Jack-Stephens-Repository/blob/master/Week10AssignmentJackStephens.ipynb\" target=\"_parent\"><img src=\"https://colab.research.google.com/assets/colab-badge.svg\" alt=\"Open In Colab\"/></a>"
      ]
    },
    {
      "cell_type": "code",
      "metadata": {
        "id": "M6itz7-ATGHz",
        "outputId": "2ca6a19f-fdbf-4df9-9851-2bb78fb910b6",
        "colab": {
          "base_uri": "https://localhost:8080/"
        }
      },
      "source": [
        "#Program One \n",
        "import urllib.request\n",
        "file_name_one = \"https://raw.githubusercontent.com/mlepinski/Python-Worksheets/master/Sonnets.txt\"\n",
        "my_file_one = urllib.request.urlopen(file_name_one)\n",
        "\n",
        "file_name_two = \"https://raw.githubusercontent.com/mlepinski/Python-Worksheets/master/coolWords.txt\"\n",
        "my_file_two = urllib.request.urlopen(file_name_two)\n",
        "\n",
        "line_count = 0\n",
        "second_line_count = 0\n",
        "\n",
        "for line in my_file_one:\n",
        "  line = line.decode(\"utf-8\")\n",
        "  line_count += 1\n",
        "for line in my_file_two:\n",
        "  line = line.decode(\"utf-8\")\n",
        "  second_line_count += 1\n",
        "\n",
        "print(\"First file number of lines: \", line_count)\n",
        "print(\"Second file number of lines: \", second_line_count)"
      ],
      "execution_count": 4,
      "outputs": [
        {
          "output_type": "stream",
          "text": [
            "First file number of lines:  2617\n",
            "Second file number of lines:  718\n"
          ],
          "name": "stdout"
        }
      ]
    },
    {
      "cell_type": "code",
      "metadata": {
        "id": "RV7QOWSKt5a4",
        "outputId": "2205e2a4-297c-40fd-bc5c-4958784ebd77",
        "colab": {
          "base_uri": "https://localhost:8080/"
        }
      },
      "source": [
        "#Program Two\n",
        "def lines_with_word(filename, word):\n",
        "  open_file = urllib.request.urlopen(filename)\n",
        "  count = 0\n",
        "  for line in open_file:\n",
        "    line = line.decode(\"utf-8\")\n",
        "    if word in line:\n",
        "      count = count + 1\n",
        "  return count\n",
        "\n",
        "file_name = \"https://raw.githubusercontent.com/mlepinski/Python-Worksheets/master/Sonnets.txt\"\n",
        "answer1 = lines_with_word(file_name, \"monument\")\n",
        "\n",
        "print(\"Monument appears in \", answer1, \"lines.\")\n",
        "\n",
        "answer2 = lines_with_word(file_name, \"war\")\n",
        "\n",
        "print(\"War appears in \", answer2, \"lines.\")"
      ],
      "execution_count": 31,
      "outputs": [
        {
          "output_type": "stream",
          "text": [
            "Monument appears in  3 lines.\n",
            "War appears in  39 lines.\n"
          ],
          "name": "stdout"
        }
      ]
    },
    {
      "cell_type": "code",
      "metadata": {
        "id": "GJkBjRIlzlMU",
        "outputId": "dfa1be7a-18f4-4842-e919-d4bc82c0dede",
        "colab": {
          "base_uri": "https://localhost:8080/"
        }
      },
      "source": [
        "#Program Three\n",
        "def word_count(filename, word):\n",
        "  open_file = urllib.request.urlopen(filename)\n",
        "  count = 0\n",
        "  for line in open_file:\n",
        "    line = line.decode(\"utf-8\")\n",
        "    line = line.lower()\n",
        "    if word in line:\n",
        "      count = count + 1\n",
        "  return count\n",
        "\n",
        "file_name = \"https://raw.githubusercontent.com/mlepinski/Python-Worksheets/master/Sonnets.txt\"\n",
        "answer1 = word_count(file_name, \"shall\")\n",
        "\n",
        "print(\"Shall appears in \", answer1, \"lines.\")    "
      ],
      "execution_count": 36,
      "outputs": [
        {
          "output_type": "stream",
          "text": [
            "Shall appears in  59 lines.\n"
          ],
          "name": "stdout"
        }
      ]
    },
    {
      "cell_type": "code",
      "metadata": {
        "id": "09InZhYB73GK",
        "outputId": "98397947-e982-4b44-b22b-5f0b932bd76f",
        "colab": {
          "base_uri": "https://localhost:8080/"
        }
      },
      "source": [
        "#Program Four\n",
        "def word_count(filename, word):\n",
        "  open_file = urllib.request.urlopen(filename)\n",
        "  count = 0\n",
        "  for line in open_file:\n",
        "    line = line.decode(\"utf-8\")\n",
        "    line = line.lower()\n",
        "    if word in line:\n",
        "      count = count + 1\n",
        "  return count\n",
        "\n",
        "file_name = \"https://raw.githubusercontent.com/mlepinski/Python-Worksheets/master/Sonnets.txt\"\n",
        "answer1 = word_count(file_name, \"shall \")\n",
        "\n",
        "print(\"Shall appears in \", answer1, \"lines.\")\n",
        "\n",
        "answer2 = word_count(file_name, \"war \")\n",
        "\n",
        "print(\"War appears in \", answer2, \"lines.\")\n",
        "\n",
        "answer3 = word_count(file_name, \"monuments \")\n",
        "\n",
        "print(\"Monuments appears in \", answer3, \"lines.\")"
      ],
      "execution_count": 38,
      "outputs": [
        {
          "output_type": "stream",
          "text": [
            "Shall appears in  58 lines.\n",
            "War appears in  5 lines.\n",
            "Monuments appears in  0 lines.\n"
          ],
          "name": "stdout"
        }
      ]
    },
    {
      "cell_type": "code",
      "metadata": {
        "id": "sPyu-IdW-Y2Q",
        "outputId": "04e92ebf-633c-48d8-e22e-6a87048a269a",
        "colab": {
          "base_uri": "https://localhost:8080/"
        }
      },
      "source": [
        "#Program Five\n",
        "def word_count(filename, word):\n",
        "  open_file = urllib.request.urlopen(filename)\n",
        "  count = 0\n",
        "  for line in open_file:\n",
        "    line = line.decode(\"utf-8\")\n",
        "    line = line.lower()\n",
        "    if word in line:\n",
        "      count = count + 1\n",
        "  return count\n",
        "\n",
        "file_name = \"https://raw.githubusercontent.com/mlepinski/Python-Worksheets/master/Sonnets.txt\"\n",
        "memory1 = word_count(file_name, \"memory\")\n",
        "memory2 = word_count(file_name, \"memory,\")\n",
        "memory3 = word_count(file_name, \"memory.\")\n",
        "memory4 = word_count(file_name, \"memory;\")\n",
        "fuel1 = word_count(file_name, \"fuel\")\n",
        "fuel2 = word_count(file_name, \"fuel,\")\n",
        "fuel3 = word_count(file_name, \"fuel.\")\n",
        "fuel4 = word_count(file_name, \"fuel;\")\n",
        "answer1 = memory1 + memory2 + memory3 + memory4\n",
        "answer2 = fuel1 + fuel2 + fuel3 + fuel4\n",
        "\n",
        "print(\"Memory appears \", answer1, \"times.\")\n",
        "print(\"Fuel appears \", answer2, \"times.\")"
      ],
      "execution_count": 39,
      "outputs": [
        {
          "output_type": "stream",
          "text": [
            "Memory appears  12 times.\n",
            "Fuel appears  2 times.\n"
          ],
          "name": "stdout"
        }
      ]
    },
    {
      "cell_type": "code",
      "metadata": {
        "id": "Z7_QPQc0-bAg",
        "outputId": "d5b872a4-0b93-4126-c0e7-dfd044ce447d",
        "colab": {
          "base_uri": "https://localhost:8080/"
        }
      },
      "source": [
        "#Program Six\n",
        "def word_count(filename, word):\n",
        "  open_file = urllib.request.urlopen(filename)\n",
        "  count = 0\n",
        "  for line in open_file:\n",
        "    line = line.decode(\"utf-8\")\n",
        "    line = line.lower()\n",
        "    for word in line:\n",
        "      count = count + 1\n",
        "  return count\n",
        "\n",
        "file_name = \"https://raw.githubusercontent.com/mlepinski/Python-Worksheets/master/Sonnets.txt\"\n",
        "memory1 = word_count(file_name, \"memory\")\n",
        "memory2 = word_count(file_name, \"memory.\")\n",
        "memory3 = word_count(file_name, \"memory,\")\n",
        "memory4 = word_count(file_name, \"memory;\")\n",
        "answer1 = memory1 + memory2 + memory3 + memory4\n",
        "word_count = 12\n",
        "total = 17671\n",
        "percentage =  word_count / total\n",
        "print(percentage, \"%\")\n",
        "   "
      ],
      "execution_count": 51,
      "outputs": [
        {
          "output_type": "stream",
          "text": [
            "0.0006790787165412257 %\n"
          ],
          "name": "stdout"
        }
      ]
    }
  ]
}