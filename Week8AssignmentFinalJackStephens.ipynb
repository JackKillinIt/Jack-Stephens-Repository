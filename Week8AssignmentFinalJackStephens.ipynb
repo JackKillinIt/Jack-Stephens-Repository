{
  "nbformat": 4,
  "nbformat_minor": 0,
  "metadata": {
    "colab": {
      "name": "Week8AssignmentFinalJackStephens.ipynb",
      "provenance": [],
      "collapsed_sections": [],
      "authorship_tag": "ABX9TyNyRJUZ1noReixlaNNbATUg",
      "include_colab_link": true
    },
    "kernelspec": {
      "name": "python3",
      "display_name": "Python 3"
    }
  },
  "cells": [
    {
      "cell_type": "markdown",
      "metadata": {
        "id": "view-in-github",
        "colab_type": "text"
      },
      "source": [
        "<a href=\"https://colab.research.google.com/github/JackKillinIt/Jack-Stephens-Repository/blob/master/Week8AssignmentFinalJackStephens.ipynb\" target=\"_parent\"><img src=\"https://colab.research.google.com/assets/colab-badge.svg\" alt=\"Open In Colab\"/></a>"
      ]
    },
    {
      "cell_type": "code",
      "metadata": {
        "id": "uw3A4V3STCVt",
        "outputId": "7b9554e9-514a-4343-9c54-8fd5b093983c",
        "colab": {
          "base_uri": "https://localhost:8080/",
          "height": 34
        }
      },
      "source": [
        "#Code block to test understanding of stuff\n",
        "my_list_practice = []\n",
        "for num in range(len(words)):\n",
        "  my_list_practice.append(\"_ \")\n",
        "my_string_practice = \"\"\n",
        "my_string_practice = my_string_practice.join(my_list_practice)\n",
        "print(my_string_practice)"
      ],
      "execution_count": null,
      "outputs": [
        {
          "output_type": "stream",
          "text": [
            "_ _ _ _ _ \n"
          ],
          "name": "stdout"
        }
      ]
    },
    {
      "cell_type": "code",
      "metadata": {
        "id": "cnBxcIqs5VI_",
        "outputId": "06bce717-738b-4773-eca2-1bf8179bc391",
        "colab": {
          "base_uri": "https://localhost:8080/",
          "height": 34
        }
      },
      "source": [
        "#Program Zero\n",
        "def choose_word_practice():\n",
        "  word = \"balloon\"\n",
        "  print(word)\n",
        "choose_word_practice()"
      ],
      "execution_count": null,
      "outputs": [
        {
          "output_type": "stream",
          "text": [
            "balloon\n"
          ],
          "name": "stdout"
        }
      ]
    },
    {
      "cell_type": "code",
      "metadata": {
        "id": "l4uxDWSj5RkY",
        "outputId": "01f6bbb2-c682-4c31-f876-07234f6500e7",
        "colab": {
          "base_uri": "https://localhost:8080/",
          "height": 34
        }
      },
      "source": [
        "#Program One\n",
        "blank_list = [\"_ \", \"_ \", \"_ \", \"_ \", \"_\"]\n",
        "print(blank_list)"
      ],
      "execution_count": null,
      "outputs": [
        {
          "output_type": "stream",
          "text": [
            "['_ ', '_ ', '_ ', '_ ', '_']\n"
          ],
          "name": "stdout"
        }
      ]
    },
    {
      "cell_type": "code",
      "metadata": {
        "id": "_Ds3vSJae6ab",
        "outputId": "775f1289-3917-4b16-de51-918f6be52f24",
        "colab": {
          "base_uri": "https://localhost:8080/",
          "height": 50
        }
      },
      "source": [
        "#Program Two\n",
        "letter_one = input(\"What letter do you guess: \")\n",
        "print(letter_one)"
      ],
      "execution_count": null,
      "outputs": [
        {
          "output_type": "stream",
          "text": [
            "What letter do you guess: A\n",
            "A\n"
          ],
          "name": "stdout"
        }
      ]
    },
    {
      "cell_type": "code",
      "metadata": {
        "id": "rY9nZ2LLI3cu",
        "outputId": "3b448a08-9b29-49ac-8039-ae54844d6f46",
        "colab": {
          "base_uri": "https://localhost:8080/",
          "height": 68
        }
      },
      "source": [
        "#Program Three\n",
        "import random\n",
        "words = [\"dog\", \"ball\", \"mario\", \"league\", \"randoms\"]\n",
        "word = random.choice(words)\n",
        "guesses = ''\n",
        "turns = 12\n",
        "guess = input(\"Guess a character: \")\n",
        "guesses += guess\n",
        "if guess not in word:\n",
        "  turns -= 1\n",
        "  print(\"Wrong\")\n",
        "  print(\"You have\", + turns, \"more guesses\")\n",
        "  if turns == 0:\n",
        "    print(\"You lose\")\n"
      ],
      "execution_count": null,
      "outputs": [
        {
          "output_type": "stream",
          "text": [
            "Guess a character: z\n",
            "Wrong\n",
            "You have 11 more guesses\n"
          ],
          "name": "stdout"
        }
      ]
    },
    {
      "cell_type": "code",
      "metadata": {
        "id": "yeLmKVFtI5g-",
        "outputId": "41a32b29-9d8a-4878-ea04-9b203b023e3a",
        "colab": {
          "base_uri": "https://localhost:8080/",
          "height": 136
        }
      },
      "source": [
        "#Program Four\n",
        "import random\n",
        "words = [\"dog\", \"ball\", \"mario\", \"league\", \"randoms\"]\n",
        "word = random.choice(words)\n",
        "my_list = []\n",
        "for num in range(len(word)):\n",
        "  my_list.append(\"_ \")\n",
        "my_string = ''\n",
        "my_string = my_string.join(my_list)\n",
        "print(my_string)\n",
        "guesses = ''\n",
        "turns = 12\n",
        "guess = input(\"Guess a character: \")\n",
        "guesses += guess\n",
        "for char in word:\n",
        "  if char in guesses:\n",
        "    print(char)\n",
        "    break\n",
        "  else:\n",
        "    print(\"_ \")\n",
        "if guess in word:\n",
        "  turns = turns\n",
        "  print(\"You guessed a character\")\n",
        "  print(\"You have\", + turns, \"more guesses\")\n",
        "  if turns == 0:\n",
        "    print(\"You lose\")\n",
        "\n"
      ],
      "execution_count": null,
      "outputs": [
        {
          "output_type": "stream",
          "text": [
            "_ _ _ \n",
            "Guess a character: d\n",
            "d\n",
            "_ \n",
            "_ \n",
            "You guessed a character\n",
            "You have 12 more guesses\n"
          ],
          "name": "stdout"
        }
      ]
    },
    {
      "cell_type": "code",
      "metadata": {
        "id": "wfPIGYUHI68f",
        "outputId": "b681e403-ebef-49fc-b0a3-262032c5bbb6",
        "colab": {
          "base_uri": "https://localhost:8080/",
          "height": 461
        }
      },
      "source": [
        "#Program Five\n",
        "import random\n",
        "print(\"Hello and welcome to Hangman! Try to guess the word before you run out of turns! You have six chances before you lose the game so good luck!\")\n",
        "word_list = [\"dog\", \"ball\", \"plays\", \"league\", \"randoms\"]\n",
        "random_word = random.choice(word_list)\n",
        "my_list = []\n",
        "for num in range(len(random_word)):\n",
        "  my_list.append(\"_ \")\n",
        "my_string = ''\n",
        "my_string = my_string.join(my_list)\n",
        "print(my_string)\n",
        "guesses = ''\n",
        "turns = 6\n",
        "user_guess = input(\"Guess a character: \")\n",
        "guesses += user_guess\n",
        "failed = 0\n",
        "while turns > 0:\n",
        "  succesful_guesses = 0\n",
        "  for char in random_word:\n",
        "    if char in guesses:\n",
        "      print(char)\n",
        "      succesful_guesses += 1\n",
        "    else:\n",
        "      print(\"_\")\n",
        "  if succesful_guesses == len(random_word):\n",
        "    print(\"You win!\")\n",
        "    print(\"The word was:\", random_word)\n",
        "    break\n",
        "  user_guess = input(\"Guess a character: \")\n",
        "  guesses += user_guess \n",
        "  if user_guess not in random_word:\n",
        "    failed += 1\n",
        "    turns -= 1\n",
        "    print(\"Wrong\")\n",
        "    print(\"You have\", + turns, \"more guesses.\")\n",
        "    if turns == 0:\n",
        "      print(\"You lose! Better luck next time! The word you were guessing was:\", random_word)\n",
        "  if failed == 1:\n",
        "    print(\"  (_)  \")\n",
        "  if failed == 2:\n",
        "    print(\"  (_)  \")\n",
        "    print(\"   |   \")\n",
        "    print(\"   |   \")\n",
        "  if failed == 3:\n",
        "    print(\"  (_)  \")\n",
        "    print(\"  /|   \")\n",
        "    print(\" / |   \")\n",
        "  if failed == 4:\n",
        "    print(\"  (_)  \")\n",
        "    print(\"  /|\\  \")\n",
        "    print(\" / | \\ \")\n",
        "  if failed == 5:\n",
        "    print(\"  (_)  \")\n",
        "    print(\"  /|\\  \")\n",
        "    print(\" / | \\ \")\n",
        "    print(\"  /    \")\n",
        "    print(\" /     \")\n",
        "  if failed == 6:\n",
        "    print(\"  (_)  \")\n",
        "    print(\"  /|\\  \")\n",
        "    print(\" / | \\ \")\n",
        "    print(\"  / \\  \")\n",
        "    print(\" /   \\ \")\n",
        "    break\n",
        "\n",
        "\n",
        "    \n",
        "      "
      ],
      "execution_count": 33,
      "outputs": [
        {
          "output_type": "stream",
          "text": [
            "Hello and welcome to Hangman! Try to guess the word before you run out of turns! You have six chances before you lose the game so good luck!\n",
            "_ _ _ \n",
            "Guess a character: d\n",
            "d\n",
            "_\n",
            "_\n",
            "Guess a character: O\n",
            "Wrong\n",
            "You have 5 more guesses.\n",
            "  (_)  \n",
            "d\n",
            "_\n",
            "_\n",
            "Guess a character: o\n",
            "Guess a character: g\n",
            "  (_)  \n",
            "d\n",
            "o\n",
            "_\n",
            "  (_)  \n",
            "d\n",
            "o\n",
            "g\n",
            "You win!\n",
            "The word was: dog\n"
          ],
          "name": "stdout"
        }
      ]
    },
    {
      "cell_type": "code",
      "metadata": {
        "id": "X9G4pg56I-ow",
        "outputId": "3594e141-1154-42b2-faf2-3ff889b16f28",
        "colab": {
          "base_uri": "https://localhost:8080/",
          "height": 1000
        }
      },
      "source": [
        "#Program Six\n",
        "import random\n",
        "import urllib.request\n",
        "print(\"Hello and welcome to Hangman! Try to guess the word before you run out of turns! You have six wrong guesses before you lose so good luck!\")\n",
        "file_name = \"https://raw.githubusercontent.com/mlepinski/Python-Worksheets/master/coolWords.txt\"\n",
        "my_file = urllib.request.urlopen(file_name)\n",
        "long_string = my_file.read()\n",
        "long_string = long_string.decode(\"utf-8\")\n",
        "word_list = long_string.split(\"\\n\")\n",
        "random_word = random.choice(word_list)\n",
        "my_list = []\n",
        "for num in range(len(random_word)):\n",
        "  my_list.append(\"_ \")\n",
        "my_string = ''\n",
        "my_string = my_string.join(my_list)\n",
        "print(my_string)\n",
        "guesses = ''\n",
        "turns = 6\n",
        "user_guess = input(\"Guess a character: \")\n",
        "user_guess = user_guess\n",
        "guesses += user_guess\n",
        "failed = 0\n",
        "\n",
        "for char in random_word:\n",
        "  if char == random_word[0]:\n",
        "    user_guess = user_guess.upper()\n",
        "  else:\n",
        "    user_guess = user_guess.lower()\n",
        "\n",
        "while turns > 0:\n",
        "  succesful_guesses = 0\n",
        "  for char in random_word:\n",
        "    if char in guesses:\n",
        "      print(char)\n",
        "      succesful_guesses += 1\n",
        "    else:\n",
        "      print(\"_\")\n",
        "  if succesful_guesses == len(random_word):\n",
        "    print(\"You win!\")\n",
        "    print(\"The word was:\", random_word)\n",
        "    break\n",
        "  user_guess = input(\"Guess a character: \")\n",
        "  guesses += user_guess\n",
        "  if user_guess not in random_word:\n",
        "    failed += 1\n",
        "    turns -= 1\n",
        "    print(\"Wrong\")\n",
        "    print(\"You have\", + turns, \"more guesses.\")\n",
        "    if turns == 0:\n",
        "      print(\"You lose! Better luck next time! The word you were guessing was:\", random_word)\n",
        "  if failed == 1:\n",
        "    print(\"  (_)  \")\n",
        "  if failed == 2:\n",
        "    print(\"  (_)  \")\n",
        "    print(\"   |   \")\n",
        "    print(\"   |   \")\n",
        "  if failed == 3:\n",
        "    print(\"  (_)  \")\n",
        "    print(\"  /|   \")\n",
        "    print(\" / |   \")\n",
        "  if failed == 4:\n",
        "    print(\"  (_)  \")\n",
        "    print(\"  /|\\  \")\n",
        "    print(\" / | \\ \")\n",
        "  if failed == 5:\n",
        "    print(\"  (_)  \")\n",
        "    print(\"  /|\\  \")\n",
        "    print(\" / | \\ \")\n",
        "    print(\"  /    \")\n",
        "    print(\" /     \")\n",
        "  if failed == 6:\n",
        "    print(\"  (_)  \")\n",
        "    print(\"  /|\\  \")\n",
        "    print(\" / | \\ \")\n",
        "    print(\"  / \\  \")\n",
        "    print(\" /   \\ \")\n",
        "    break\n"
      ],
      "execution_count": 34,
      "outputs": [
        {
          "output_type": "stream",
          "text": [
            "Hello and welcome to Hangman! Try to guess the word before you run out of turns! You have six chances before you lose the game so good luck!\n",
            "_ _ _ _ _ _ _ _ _ \n",
            "Guess a character: e\n",
            "_\n",
            "_\n",
            "_\n",
            "_\n",
            "_\n",
            "_\n",
            "_\n",
            "_\n",
            "_\n",
            "Guess a character: a\n",
            "_\n",
            "_\n",
            "_\n",
            "_\n",
            "a\n",
            "_\n",
            "a\n",
            "_\n",
            "_\n",
            "Guess a character: r\n",
            "_\n",
            "_\n",
            "_\n",
            "_\n",
            "a\n",
            "_\n",
            "a\n",
            "_\n",
            "r\n",
            "Guess a character: t\n",
            "Wrong\n",
            "You have 5 more guesses.\n",
            "  (_)  \n",
            "_\n",
            "_\n",
            "_\n",
            "_\n",
            "a\n",
            "_\n",
            "a\n",
            "_\n",
            "r\n",
            "Guess a character: i\n",
            "Wrong\n",
            "You have 4 more guesses.\n",
            "  (_)  \n",
            "   |   \n",
            "   |   \n",
            "_\n",
            "_\n",
            "_\n",
            "_\n",
            "a\n",
            "_\n",
            "a\n",
            "_\n",
            "r\n",
            "Guess a character: o\n",
            "Wrong\n",
            "You have 3 more guesses.\n",
            "  (_)  \n",
            "  /|   \n",
            " / |   \n",
            "_\n",
            "_\n",
            "_\n",
            "_\n",
            "a\n",
            "_\n",
            "a\n",
            "_\n",
            "r\n",
            "Guess a character: u\n",
            "  (_)  \n",
            "  /|   \n",
            " / |   \n",
            "_\n",
            "u\n",
            "_\n",
            "_\n",
            "a\n",
            "_\n",
            "a\n",
            "u\n",
            "r\n",
            "Guess a character: b\n",
            "  (_)  \n",
            "  /|   \n",
            " / |   \n",
            "_\n",
            "u\n",
            "_\n",
            "b\n",
            "a\n",
            "_\n",
            "a\n",
            "u\n",
            "r\n",
            "Guess a character: s\n",
            "  (_)  \n",
            "  /|   \n",
            " / |   \n",
            "_\n",
            "u\n",
            "_\n",
            "b\n",
            "a\n",
            "s\n",
            "a\n",
            "u\n",
            "r\n",
            "Guess a character: l\n",
            "  (_)  \n",
            "  /|   \n",
            " / |   \n",
            "_\n",
            "u\n",
            "l\n",
            "b\n",
            "a\n",
            "s\n",
            "a\n",
            "u\n",
            "r\n",
            "Guess a character: B\n",
            "  (_)  \n",
            "  /|   \n",
            " / |   \n",
            "B\n",
            "u\n",
            "l\n",
            "b\n",
            "a\n",
            "s\n",
            "a\n",
            "u\n",
            "r\n",
            "You win!\n",
            "The word was: Bulbasaur\n"
          ],
          "name": "stdout"
        }
      ]
    }
  ]
}