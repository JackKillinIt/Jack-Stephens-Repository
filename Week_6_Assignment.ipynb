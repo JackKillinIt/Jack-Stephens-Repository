{
  "nbformat": 4,
  "nbformat_minor": 0,
  "metadata": {
    "colab": {
      "name": "Copy of Assignment Week 6.ipynb",
      "provenance": [],
      "include_colab_link": true
    },
    "kernelspec": {
      "name": "python3",
      "display_name": "Python 3"
    }
  },
  "cells": [
    {
      "cell_type": "markdown",
      "metadata": {
        "id": "view-in-github",
        "colab_type": "text"
      },
      "source": [
        "<a href=\"https://colab.research.google.com/github/JackKillinIt/Jack-Stephens-Repository/blob/master/Week_6_Assignment.ipynb\" target=\"_parent\"><img src=\"https://colab.research.google.com/assets/colab-badge.svg\" alt=\"Open In Colab\"/></a>"
      ]
    },
    {
      "cell_type": "markdown",
      "metadata": {
        "id": "OmbYt8lDcUhp"
      },
      "source": [
        "# WEEK 6 ASSIGNMENT : Introduction to Lists\n",
        "\n",
        "----------------\n",
        "\n",
        "Due to the exam, the assignment this week is a bit shorter than ussual. \n",
        "\n",
        "You are encouraged to create a new blank workbook for your solutions. You should then save your solutions into GitHub.\n",
        "\n",
        "**0)** Create a list that contains \"Hello\" and \"World\". Write a program that prints out this list. \n",
        "\n",
        "**1)** Create a program that starts with an empty list and then uses a while loop to repeatedly ask the user to enter the name of a food. The program should add each food to the list. The program should stop when the user enters \"stop\".\n",
        "\n",
        "Note: There is an example similar to this in the worksheet.\n",
        "\n",
        "**2)** Use the list that you created in Problem 2. Write additional Python instructions that ask the user to enter a food to delete from the list. You should then delete the requested food from the list and print the list.\n",
        "\n",
        "**3)** Use the list that you created in Problem 2. Write a loop that goes through every element of the list checks whether the food is \"olives\" (or \"olive\") and prints out the food name provided that it is not \"olives\". (I despise \"olives\", wouldn't want to print out that stuff!)\n",
        "\n",
        "To test out your program, you may need to re-run the code from Problem 2 to create a list that contains \"olives\" so you can verify that your code for Problem 4 correctly omits \"olives\" when printing the list.  \n"
      ]
    },
    {
      "cell_type": "code",
      "metadata": {
        "id": "4ta0GwhVDl8C",
        "outputId": "c3f90c9a-5ad3-4bd4-865a-f159440a2fef",
        "colab": {
          "base_uri": "https://localhost:8080/",
          "height": 34
        }
      },
      "source": [
        "# Program 0\n",
        "hello_world_list = ['Hello', 'World']\n",
        "hello_world_list"
      ],
      "execution_count": 1,
      "outputs": [
        {
          "output_type": "execute_result",
          "data": {
            "text/plain": [
              "['Hello', 'World']"
            ]
          },
          "metadata": {
            "tags": []
          },
          "execution_count": 1
        }
      ]
    },
    {
      "cell_type": "code",
      "metadata": {
        "id": "v7VMAov7EYr1",
        "outputId": "4bb1c2d1-e1fc-44dd-c425-231d1af361a6",
        "colab": {
          "base_uri": "https://localhost:8080/",
          "height": 168
        }
      },
      "source": [
        "# Program 1\n",
        "food_list = []\n",
        "user_food = input(\"Please enter a food or enter 'stop' to stop: \")\n",
        "while not user_food == \"stop\":\n",
        "  food_list.append(user_food)\n",
        "  user_food = input(\"Please enter a food or enter 'stop' to stop: \")\n",
        "print('Your list included', food_list)"
      ],
      "execution_count": 2,
      "outputs": [
        {
          "output_type": "stream",
          "text": [
            "Please enter a food or enter 'stop' to stop: strawberries\n",
            "Please enter a food or enter 'stop' to stop: blueberries\n",
            "Please enter a food or enter 'stop' to stop: melons\n",
            "Please enter a food or enter 'stop' to stop: olives\n",
            "Please enter a food or enter 'stop' to stop: peaches\n",
            "Please enter a food or enter 'stop' to stop: apples\n",
            "Please enter a food or enter 'stop' to stop: grapes\n",
            "Please enter a food or enter 'stop' to stop: stop\n",
            "Your list included ['strawberries', 'blueberries', 'melons', 'olives', 'peaches', 'apples', 'grapes']\n"
          ],
          "name": "stdout"
        }
      ]
    },
    {
      "cell_type": "code",
      "metadata": {
        "id": "JE5hCidQsEuy",
        "outputId": "b190b102-897a-4138-d315-a239913533b6",
        "colab": {
          "base_uri": "https://localhost:8080/",
          "height": 101
        }
      },
      "source": [
        "#Program 2\n",
        "print(\"The current list includes\", food_list)\n",
        "user_food_2 = input(\"Choose one of the foods from the list to delete from the list: \")\n",
        "while not user_food_2 in food_list:\n",
        "  print(\"You did not choose a fruit from the list.\")\n",
        "  user_food_2 = input(\"Choose one of the foods from the list to delete: \")\n",
        "food_list.remove(user_food_2)\n",
        "print(\"the list now includes\", food_list)"
      ],
      "execution_count": 4,
      "outputs": [
        {
          "output_type": "stream",
          "text": [
            "The current list includes ['strawberries', 'blueberries', 'melons', 'olives', 'peaches', 'apples', 'grapes']\n",
            "Choose one of the foods from the list to delete from the list: bananas\n",
            "You did not choose a fruit from the list.\n",
            "Choose one of the foods from the list to delete: melons\n",
            "the list now includes ['strawberries', 'blueberries', 'olives', 'peaches', 'apples', 'grapes']\n"
          ],
          "name": "stdout"
        }
      ]
    },
    {
      "cell_type": "code",
      "metadata": {
        "id": "zbfJ0ZYJswIy",
        "outputId": "9ef7a682-4143-4eb8-9666-5f679eb839e0",
        "colab": {
          "base_uri": "https://localhost:8080/",
          "height": 101
        }
      },
      "source": [
        "for x in food_list:\n",
        "  if x == \"olives\":\n",
        "    continue\n",
        "  elif x == \"olive\":\n",
        "    continue\n",
        "  else:\n",
        "    print(x, \"is a food in the list.\")"
      ],
      "execution_count": 5,
      "outputs": [
        {
          "output_type": "stream",
          "text": [
            "strawberries is a food in the list.\n",
            "blueberries is a food in the list.\n",
            "peaches is a food in the list.\n",
            "apples is a food in the list.\n",
            "grapes is a food in the list.\n"
          ],
          "name": "stdout"
        }
      ]
    }
  ]
}